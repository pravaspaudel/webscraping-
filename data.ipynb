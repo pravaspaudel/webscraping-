{
 "cells": [
  {
   "cell_type": "code",
   "execution_count": 2,
   "metadata": {},
   "outputs": [],
   "source": [
    "import pandas as pd"
   ]
  },
  {
   "cell_type": "code",
   "execution_count": 2,
   "metadata": {},
   "outputs": [],
   "source": [
    "df = pd.read_json(\"products.json\")"
   ]
  },
  {
   "cell_type": "code",
   "execution_count": 3,
   "metadata": {},
   "outputs": [
    {
     "data": {
      "text/html": [
       "<div>\n",
       "<style scoped>\n",
       "    .dataframe tbody tr th:only-of-type {\n",
       "        vertical-align: middle;\n",
       "    }\n",
       "\n",
       "    .dataframe tbody tr th {\n",
       "        vertical-align: top;\n",
       "    }\n",
       "\n",
       "    .dataframe thead th {\n",
       "        text-align: right;\n",
       "    }\n",
       "</style>\n",
       "<table border=\"1\" class=\"dataframe\">\n",
       "  <thead>\n",
       "    <tr style=\"text-align: right;\">\n",
       "      <th></th>\n",
       "      <th>Brand</th>\n",
       "      <th>Model Year</th>\n",
       "      <th>Battery Capacity</th>\n",
       "      <th>Number Of Cameras</th>\n",
       "      <th>Camera Front (Megapixels)</th>\n",
       "      <th>Camera Back (Megapixels)</th>\n",
       "      <th>Screen Size (inches)</th>\n",
       "      <th>ram</th>\n",
       "      <th>storage</th>\n",
       "      <th>pricevalue</th>\n",
       "      <th>i</th>\n",
       "    </tr>\n",
       "  </thead>\n",
       "  <tbody>\n",
       "    <tr>\n",
       "      <th>0</th>\n",
       "      <td>No Brand</td>\n",
       "      <td>2024</td>\n",
       "      <td>5000 - 5999 mAh</td>\n",
       "      <td>2</td>\n",
       "      <td>8</td>\n",
       "      <td>13</td>\n",
       "      <td>6.6 - 7 Inch</td>\n",
       "      <td>8GB</td>\n",
       "      <td>128GB</td>\n",
       "      <td>Rs. 13,889</td>\n",
       "      <td>0</td>\n",
       "    </tr>\n",
       "    <tr>\n",
       "      <th>1</th>\n",
       "      <td>No Brand</td>\n",
       "      <td>2023</td>\n",
       "      <td>5000 - 5999 mAh</td>\n",
       "      <td>2</td>\n",
       "      <td>5</td>\n",
       "      <td>13</td>\n",
       "      <td>6.1 - 6.5 Inch</td>\n",
       "      <td>4GB</td>\n",
       "      <td>64GB</td>\n",
       "      <td>Rs. 13,299</td>\n",
       "      <td>1</td>\n",
       "    </tr>\n",
       "    <tr>\n",
       "      <th>2</th>\n",
       "      <td>No Brand</td>\n",
       "      <td>2023</td>\n",
       "      <td>5000 - 5999 mAh</td>\n",
       "      <td>2</td>\n",
       "      <td>5</td>\n",
       "      <td>13</td>\n",
       "      <td>6.1 - 6.5 Inch</td>\n",
       "      <td>4GB</td>\n",
       "      <td>64GB</td>\n",
       "      <td>Rs. 13,299</td>\n",
       "      <td>2</td>\n",
       "    </tr>\n",
       "    <tr>\n",
       "      <th>3</th>\n",
       "      <td>No Brand</td>\n",
       "      <td>2023</td>\n",
       "      <td>5000 - 5999 mAh</td>\n",
       "      <td>2</td>\n",
       "      <td>5</td>\n",
       "      <td>13</td>\n",
       "      <td>6.1 - 6.5 Inch</td>\n",
       "      <td>4GB</td>\n",
       "      <td>64GB</td>\n",
       "      <td>Rs. 13,299</td>\n",
       "      <td>3</td>\n",
       "    </tr>\n",
       "    <tr>\n",
       "      <th>4</th>\n",
       "      <td>No Brand</td>\n",
       "      <td>2024</td>\n",
       "      <td>4000 - 4999 mAh</td>\n",
       "      <td>4</td>\n",
       "      <td>50</td>\n",
       "      <td>108</td>\n",
       "      <td>6.6 - 7 Inch</td>\n",
       "      <td>8GB</td>\n",
       "      <td>512GB</td>\n",
       "      <td>Rs. 29,799</td>\n",
       "      <td>4</td>\n",
       "    </tr>\n",
       "  </tbody>\n",
       "</table>\n",
       "</div>"
      ],
      "text/plain": [
       "      Brand  Model Year Battery Capacity  Number Of Cameras  \\\n",
       "0  No Brand        2024  5000 - 5999 mAh                  2   \n",
       "1  No Brand        2023  5000 - 5999 mAh                  2   \n",
       "2  No Brand        2023  5000 - 5999 mAh                  2   \n",
       "3  No Brand        2023  5000 - 5999 mAh                  2   \n",
       "4  No Brand        2024  4000 - 4999 mAh                  4   \n",
       "\n",
       "   Camera Front (Megapixels)  Camera Back (Megapixels) Screen Size (inches)  \\\n",
       "0                          8                        13         6.6 - 7 Inch   \n",
       "1                          5                        13       6.1 - 6.5 Inch   \n",
       "2                          5                        13       6.1 - 6.5 Inch   \n",
       "3                          5                        13       6.1 - 6.5 Inch   \n",
       "4                         50                       108         6.6 - 7 Inch   \n",
       "\n",
       "   ram storage  pricevalue  i  \n",
       "0  8GB   128GB  Rs. 13,889  0  \n",
       "1  4GB    64GB  Rs. 13,299  1  \n",
       "2  4GB    64GB  Rs. 13,299  2  \n",
       "3  4GB    64GB  Rs. 13,299  3  \n",
       "4  8GB   512GB  Rs. 29,799  4  "
      ]
     },
     "execution_count": 3,
     "metadata": {},
     "output_type": "execute_result"
    }
   ],
   "source": [
    "df"
   ]
  },
  {
   "cell_type": "code",
   "execution_count": 4,
   "metadata": {},
   "outputs": [
    {
     "data": {
      "text/plain": [
       "1"
      ]
     },
     "execution_count": 4,
     "metadata": {},
     "output_type": "execute_result"
    }
   ],
   "source": [
    "df['Brand'].nunique()"
   ]
  },
  {
   "cell_type": "code",
   "execution_count": 3,
   "metadata": {},
   "outputs": [],
   "source": [
    "page2 = pd.read_json('./webscraping/page2.json')"
   ]
  },
  {
   "cell_type": "code",
   "execution_count": 6,
   "metadata": {},
   "outputs": [
    {
     "data": {
      "text/plain": [
       "21"
      ]
     },
     "execution_count": 6,
     "metadata": {},
     "output_type": "execute_result"
    }
   ],
   "source": [
    "page2['storage'].isnull().sum()\n"
   ]
  },
  {
   "cell_type": "code",
   "execution_count": null,
   "metadata": {},
   "outputs": [],
   "source": [
    "page3 = pd.read_json('./webscraping/page3.json')"
   ]
  }
 ],
 "metadata": {
  "kernelspec": {
   "display_name": "base",
   "language": "python",
   "name": "python3"
  },
  "language_info": {
   "codemirror_mode": {
    "name": "ipython",
    "version": 3
   },
   "file_extension": ".py",
   "mimetype": "text/x-python",
   "name": "python",
   "nbconvert_exporter": "python",
   "pygments_lexer": "ipython3",
   "version": "3.12.7"
  }
 },
 "nbformat": 4,
 "nbformat_minor": 2
}
